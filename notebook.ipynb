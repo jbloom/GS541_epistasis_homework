{
 "cells": [
  {
   "cell_type": "markdown",
   "metadata": {},
   "source": [
    "# Analyzing genotype-phenotype maps\n",
    "Example and homework for Genome Sciences 541, by Jesse Bloom, June-2019.\n",
    "\n",
    "The questions in this notebook are due by **5 PM on Thursday June 13**."
   ]
  },
  {
   "cell_type": "markdown",
   "metadata": {},
   "source": [
    "## Import Python modules"
   ]
  },
  {
   "cell_type": "code",
   "execution_count": 1,
   "metadata": {},
   "outputs": [],
   "source": [
    "import matplotlib.pyplot as plt\n",
    "plt.ion()\n",
    "\n",
    "import pandas as pd\n",
    "\n",
    "import scipy.optimize"
   ]
  },
  {
   "cell_type": "markdown",
   "metadata": {},
   "source": [
    "## Create an additive genotype-phenotype map\n",
    "Define a class that sets up an additive model for phenotypes and randomly assigns effects to each mutation at each site:"
   ]
  },
  {
   "cell_type": "code",
   "execution_count": 2,
   "metadata": {},
   "outputs": [],
   "source": [
    "class AdditiveModel:\n",
    "    \"\"\"Additive genotype-phenotype model.\n",
    "    \n",
    "    Parameters\n",
    "    ----------\n",
    "    alphabet : list\n",
    "        List of characters in the alphabet for the sequences.\n",
    "    wtseq : str\n",
    "        The wildtype sequence.\n",
    "    seed : int\n",
    "        The random number seed for initializing model parameters\n",
    "    \n",
    "    Attributes\n",
    "    ----------\n",
    "    alphabet : list\n",
    "        List of characters in the alphabet for the sequences.\n",
    "    wtseq : str\n",
    "        The wildtype sequence.\n",
    "    seqlength : int\n",
    "        Length of sequences.\n",
    "    wtpheno : float\n",
    "        Phenotype of wildtype sequence.\n",
    "    site_effects : dict\n",
    "        Keyed by `(site, a)` where `site` is site in 0, 1, ... numbering and\n",
    "        `s` is each possible letter in alphabet; values are effects of mutations.\n",
    "    \"\"\"\n",
    "    \n",
    "    def __init__(self,\n",
    "                 alphabet,\n",
    "                 wtseq,\n",
    "                 seed=1):\n",
    "        \"\"\"See main class docstring for how to initialize.\"\"\"\n",
    "        self.alphabet = alphabet\n",
    "        self.wtseq = wtseq\n",
    "        for a in wtseq:\n",
    "            if a not in alphabet:\n",
    "                raise ValueError(f\"wtseq contains character not in alphabet: {a}\")\n",
    "        self.seqlength = len(wtseq)\n",
    "        \n",
    "        scipy.random.seed(seed)\n",
    "        self.wtpheno = scipy.random.normal(2)\n",
    "        self.site_effects = {}\n",
    "        for r, a_wt in enumerate(self.wtseq):\n",
    "            for a in self.alphabet:\n",
    "                if a == a_wt:\n",
    "                    self.site_effects[(r, a)] = 0\n",
    "                else:\n",
    "                    self.site_effects[(r, a)] = scipy.random.normal(-1, 2)\n",
    "                    \n",
    "    def muteffects_table(self):\n",
    "        \"\"\"Table of effects of all mutations\n",
    "        \n",
    "        Returns\n",
    "        -------\n",
    "        pandas DataFrame\n",
    "            Columns give site, wildtype identity, mutation, and its effect.\n",
    "        \"\"\"\n",
    "        return (pd.Series(self.site_effects)\n",
    "                .rename_axis(['site', 'mutation'])\n",
    "                .reset_index(name='muteffect')\n",
    "                .assign(wildtype=lambda x: x['site'].apply(lambda r: self.wtseq[r]))\n",
    "                [['site', 'wildtype', 'mutation', 'muteffect']]\n",
    "                .query('wildtype != mutation')\n",
    "                .reset_index(drop=True)\n",
    "                )\n",
    "    \n",
    "    def pheno(self, seq):\n",
    "        \"\"\"Returns phenotype of sequence.\n",
    "        \n",
    "        Parameters\n",
    "        ------------\n",
    "        seq : str\n",
    "            A sequence.\n",
    "            \n",
    "        Returns\n",
    "        ---------\n",
    "        float\n",
    "            The phenotype.\n",
    "        \"\"\"\n",
    "        return sum(self.site_effects[(r, a)] for r, a in enumerate(seq)) + self.wtpheno\n",
    "    \n",
    "    def all_seqs_phenos(self):\n",
    "        \"\"\"Get all possible sequences and their phenotypes.\n",
    "        \n",
    "        Returns\n",
    "        ---------\n",
    "        dict\n",
    "            Keyed by all possible sequences, values are their phenotypes.\n",
    "        \"\"\"\n",
    "        # recursive function to build all sequences\n",
    "        def _add_letter(seqlist):\n",
    "            if len(seqlist[0]) == self.seqlength:\n",
    "                return seqlist\n",
    "            newseqlist = []\n",
    "            for seq in seqlist:\n",
    "                for a in self.alphabet:\n",
    "                    newseqlist.append(seq + a)\n",
    "            return _add_letter(newseqlist)\n",
    "            \n",
    "        allseqs = _add_letter(self.alphabet)\n",
    "        return {seq: self.pheno(seq) for seq in allseqs}"
   ]
  },
  {
   "cell_type": "markdown",
   "metadata": {},
   "source": [
    "Now create an additive model of binary sequences of letters `0` and `1` where the wildtype sequence is `0000`:"
   ]
  },
  {
   "cell_type": "code",
   "execution_count": 3,
   "metadata": {},
   "outputs": [],
   "source": [
    "binary_additive_model = AdditiveModel(['0', '1'], '0000')"
   ]
  },
  {
   "cell_type": "markdown",
   "metadata": {},
   "source": [
    "Here are the effects of mutations:"
   ]
  },
  {
   "cell_type": "code",
   "execution_count": 4,
   "metadata": {},
   "outputs": [
    {
     "data": {
      "text/html": [
       "<div>\n",
       "<style scoped>\n",
       "    .dataframe tbody tr th:only-of-type {\n",
       "        vertical-align: middle;\n",
       "    }\n",
       "\n",
       "    .dataframe tbody tr th {\n",
       "        vertical-align: top;\n",
       "    }\n",
       "\n",
       "    .dataframe thead th {\n",
       "        text-align: right;\n",
       "    }\n",
       "</style>\n",
       "<table border=\"1\" class=\"dataframe\">\n",
       "  <thead>\n",
       "    <tr style=\"text-align: right;\">\n",
       "      <th></th>\n",
       "      <th>site</th>\n",
       "      <th>wildtype</th>\n",
       "      <th>mutation</th>\n",
       "      <th>muteffect</th>\n",
       "    </tr>\n",
       "  </thead>\n",
       "  <tbody>\n",
       "    <tr>\n",
       "      <th>0</th>\n",
       "      <td>0</td>\n",
       "      <td>0</td>\n",
       "      <td>1</td>\n",
       "      <td>-2.223513</td>\n",
       "    </tr>\n",
       "    <tr>\n",
       "      <th>1</th>\n",
       "      <td>1</td>\n",
       "      <td>0</td>\n",
       "      <td>1</td>\n",
       "      <td>-2.056344</td>\n",
       "    </tr>\n",
       "    <tr>\n",
       "      <th>2</th>\n",
       "      <td>2</td>\n",
       "      <td>0</td>\n",
       "      <td>1</td>\n",
       "      <td>-3.145937</td>\n",
       "    </tr>\n",
       "    <tr>\n",
       "      <th>3</th>\n",
       "      <td>3</td>\n",
       "      <td>0</td>\n",
       "      <td>1</td>\n",
       "      <td>0.730815</td>\n",
       "    </tr>\n",
       "  </tbody>\n",
       "</table>\n",
       "</div>"
      ],
      "text/plain": [
       "   site wildtype mutation  muteffect\n",
       "0     0        0        1  -2.223513\n",
       "1     1        0        1  -2.056344\n",
       "2     2        0        1  -3.145937\n",
       "3     3        0        1   0.730815"
      ]
     },
     "execution_count": 4,
     "metadata": {},
     "output_type": "execute_result"
    }
   ],
   "source": [
    "binary_additive_model.muteffects_table()"
   ]
  },
  {
   "cell_type": "markdown",
   "metadata": {},
   "source": [
    "Here are all the genotypes and their phenotypes in a dict:"
   ]
  },
  {
   "cell_type": "code",
   "execution_count": 5,
   "metadata": {},
   "outputs": [
    {
     "data": {
      "text/plain": [
       "{'0000': 3.6243453636632417,\n",
       " '0001': 4.3551606223125985,\n",
       " '0010': 0.47840811935090066,\n",
       " '0011': 1.2092233780002575,\n",
       " '0100': 1.5680018591363303,\n",
       " '0101': 2.2988171177856875,\n",
       " '0110': -1.5779353851760103,\n",
       " '0111': -0.8471201265266535,\n",
       " '1000': 1.4008325363630911,\n",
       " '1001': 2.131647795012448,\n",
       " '1010': -1.7451047079492499,\n",
       " '1011': -1.014289449299893,\n",
       " '1100': -0.6555109681638207,\n",
       " '1101': 0.07530429048553611,\n",
       " '1110': -3.8014482124761617,\n",
       " '1111': -3.070632953826805}"
      ]
     },
     "execution_count": 5,
     "metadata": {},
     "output_type": "execute_result"
    }
   ],
   "source": [
    "binary_additive_gp = binary_additive_model.all_seqs_phenos()\n",
    "binary_additive_gp"
   ]
  },
  {
   "cell_type": "markdown",
   "metadata": {},
   "source": [
    "Here is the same in a nice data frame format:"
   ]
  },
  {
   "cell_type": "code",
   "execution_count": 6,
   "metadata": {},
   "outputs": [
    {
     "data": {
      "text/html": [
       "<div>\n",
       "<style scoped>\n",
       "    .dataframe tbody tr th:only-of-type {\n",
       "        vertical-align: middle;\n",
       "    }\n",
       "\n",
       "    .dataframe tbody tr th {\n",
       "        vertical-align: top;\n",
       "    }\n",
       "\n",
       "    .dataframe thead th {\n",
       "        text-align: right;\n",
       "    }\n",
       "</style>\n",
       "<table border=\"1\" class=\"dataframe\">\n",
       "  <thead>\n",
       "    <tr style=\"text-align: right;\">\n",
       "      <th></th>\n",
       "      <th>genotype</th>\n",
       "      <th>phenotype</th>\n",
       "    </tr>\n",
       "  </thead>\n",
       "  <tbody>\n",
       "    <tr>\n",
       "      <th>0</th>\n",
       "      <td>0000</td>\n",
       "      <td>3.624345</td>\n",
       "    </tr>\n",
       "    <tr>\n",
       "      <th>1</th>\n",
       "      <td>0001</td>\n",
       "      <td>4.355161</td>\n",
       "    </tr>\n",
       "    <tr>\n",
       "      <th>2</th>\n",
       "      <td>0010</td>\n",
       "      <td>0.478408</td>\n",
       "    </tr>\n",
       "    <tr>\n",
       "      <th>3</th>\n",
       "      <td>0011</td>\n",
       "      <td>1.209223</td>\n",
       "    </tr>\n",
       "    <tr>\n",
       "      <th>4</th>\n",
       "      <td>0100</td>\n",
       "      <td>1.568002</td>\n",
       "    </tr>\n",
       "    <tr>\n",
       "      <th>5</th>\n",
       "      <td>0101</td>\n",
       "      <td>2.298817</td>\n",
       "    </tr>\n",
       "    <tr>\n",
       "      <th>6</th>\n",
       "      <td>0110</td>\n",
       "      <td>-1.577935</td>\n",
       "    </tr>\n",
       "    <tr>\n",
       "      <th>7</th>\n",
       "      <td>0111</td>\n",
       "      <td>-0.847120</td>\n",
       "    </tr>\n",
       "    <tr>\n",
       "      <th>8</th>\n",
       "      <td>1000</td>\n",
       "      <td>1.400833</td>\n",
       "    </tr>\n",
       "    <tr>\n",
       "      <th>9</th>\n",
       "      <td>1001</td>\n",
       "      <td>2.131648</td>\n",
       "    </tr>\n",
       "    <tr>\n",
       "      <th>10</th>\n",
       "      <td>1010</td>\n",
       "      <td>-1.745105</td>\n",
       "    </tr>\n",
       "    <tr>\n",
       "      <th>11</th>\n",
       "      <td>1011</td>\n",
       "      <td>-1.014289</td>\n",
       "    </tr>\n",
       "    <tr>\n",
       "      <th>12</th>\n",
       "      <td>1100</td>\n",
       "      <td>-0.655511</td>\n",
       "    </tr>\n",
       "    <tr>\n",
       "      <th>13</th>\n",
       "      <td>1101</td>\n",
       "      <td>0.075304</td>\n",
       "    </tr>\n",
       "    <tr>\n",
       "      <th>14</th>\n",
       "      <td>1110</td>\n",
       "      <td>-3.801448</td>\n",
       "    </tr>\n",
       "    <tr>\n",
       "      <th>15</th>\n",
       "      <td>1111</td>\n",
       "      <td>-3.070633</td>\n",
       "    </tr>\n",
       "  </tbody>\n",
       "</table>\n",
       "</div>"
      ],
      "text/plain": [
       "   genotype  phenotype\n",
       "0      0000   3.624345\n",
       "1      0001   4.355161\n",
       "2      0010   0.478408\n",
       "3      0011   1.209223\n",
       "4      0100   1.568002\n",
       "5      0101   2.298817\n",
       "6      0110  -1.577935\n",
       "7      0111  -0.847120\n",
       "8      1000   1.400833\n",
       "9      1001   2.131648\n",
       "10     1010  -1.745105\n",
       "11     1011  -1.014289\n",
       "12     1100  -0.655511\n",
       "13     1101   0.075304\n",
       "14     1110  -3.801448\n",
       "15     1111  -3.070633"
      ]
     },
     "execution_count": 6,
     "metadata": {},
     "output_type": "execute_result"
    }
   ],
   "source": [
    "binary_additive_gp_df = (\n",
    "    pd.Series(binary_additive_gp)\n",
    "    .rename_axis('genotype')\n",
    "    .reset_index(name='phenotype')\n",
    "    )\n",
    "binary_additive_gp_df"
   ]
  },
  {
   "cell_type": "markdown",
   "metadata": {},
   "source": [
    "Here is the distribution of phenotypes:"
   ]
  },
  {
   "cell_type": "code",
   "execution_count": 7,
   "metadata": {},
   "outputs": [
    {
     "data": {
      "text/plain": [
       "<matplotlib.axes._subplots.AxesSubplot at 0x7f564ce11a90>"
      ]
     },
     "execution_count": 7,
     "metadata": {},
     "output_type": "execute_result"
    },
    {
     "data": {
      "image/png": "[encoded data removed]",
      "text/plain": [
       "<Figure size 432x288 with 1 Axes>"
      ]
     },
     "metadata": {
      "needs_background": "light"
     },
     "output_type": "display_data"
    }
   ],
   "source": [
    "binary_additive_gp_df['phenotype'].plot.hist()"
   ]
  },
  {
   "cell_type": "markdown",
   "metadata": {},
   "source": [
    "## Fit additive parameters in binary map\n",
    "We will write a fitting function.\n",
    "We will use the general curve-fitting function [scipy.optimize.minimize](https://docs.scipy.org/doc/scipy/reference/generated/scipy.optimize.minimize.html) because eventually (even if not in this homework), we'd like to extend to fitting non-linear genotype-phenotype maps.\n",
    "\n",
    "For our specific binary additive phenotype-genotype map above, we will be fitting five parameters:\n",
    "\n",
    "  - the phenotype of the wildtype\n",
    "  \n",
    "  - the effect of the mutation from `0` to `1` at each of the four sites in the sequence\n",
    "  \n",
    "So initialize a vector of parameters of the appropriate length, initially setting all to zero.\n",
    "Each entry in the vector represents one of the aforementioned parameters (in order)."
   ]
  },
  {
   "cell_type": "code",
   "execution_count": 8,
   "metadata": {},
   "outputs": [
    {
     "data": {
      "text/plain": [
       "array([0., 0., 0., 0., 0.])"
      ]
     },
     "execution_count": 8,
     "metadata": {},
     "output_type": "execute_result"
    }
   ],
   "source": [
    "params0 = scipy.zeros(1 + binary_additive_model.seqlength)\n",
    "params0"
   ]
  },
  {
   "cell_type": "markdown",
   "metadata": {},
   "source": [
    "Now we define a function that returns the squared difference between the actual and predicted phenotypes.\n",
    "Note that this function works **only for the specific example above**, where there is a binary genotype-phenotype map and the wildtype sequence is all `00...00`:"
   ]
  },
  {
   "cell_type": "code",
   "execution_count": 9,
   "metadata": {},
   "outputs": [],
   "source": [
    "def func_additive_binary(params):\n",
    "    \"\"\"Fit of `params` to `binary_additive_gp`.\"\"\"\n",
    "    diff = 0\n",
    "    for seq, pheno in binary_additive_gp.items():\n",
    "        predict_pheno = params[0]\n",
    "        for r, a in enumerate(seq):\n",
    "            if a == '1':\n",
    "                predict_pheno += params[r + 1]\n",
    "        diff += (pheno - predict_pheno)**2\n",
    "    return diff"
   ]
  },
  {
   "cell_type": "markdown",
   "metadata": {},
   "source": [
    "If we perfectly fit the map, the return value of this function should be zero.\n",
    "Here it is for our initial guess:"
   ]
  },
  {
   "cell_type": "code",
   "execution_count": 10,
   "metadata": {},
   "outputs": [
    {
     "data": {
      "text/plain": [
       "79.64066968804582"
      ]
     },
     "execution_count": 10,
     "metadata": {},
     "output_type": "execute_result"
    }
   ],
   "source": [
    "func_additive_binary(params0)"
   ]
  },
  {
   "cell_type": "markdown",
   "metadata": {},
   "source": [
    "Now let's fit the optimal parameters:"
   ]
  },
  {
   "cell_type": "code",
   "execution_count": 11,
   "metadata": {},
   "outputs": [
    {
     "name": "stdout",
     "output_type": "stream",
     "text": [
      "[ 3.62434536 -2.22351283 -2.0563435  -3.14593724  0.73081526]\n"
     ]
    }
   ],
   "source": [
    "fit = scipy.optimize.minimize(func_additive_binary, params0)\n",
    "params = fit.x\n",
    "print(params)"
   ]
  },
  {
   "cell_type": "markdown",
   "metadata": {},
   "source": [
    "How good is this fit?\n",
    "Recall that the first element of the fit is the wildtype phenotype.\n",
    "Let's compare:"
   ]
  },
  {
   "cell_type": "code",
   "execution_count": 12,
   "metadata": {},
   "outputs": [
    {
     "name": "stdout",
     "output_type": "stream",
     "text": [
      "Actual wildtype phenotype: 3.6243453636632417\n",
      "Fit wildtype phenotype: 3.6243453564867836\n"
     ]
    }
   ],
   "source": [
    "print(f\"Actual wildtype phenotype: {binary_additive_model.wtpheno}\")\n",
    "print(f\"Fit wildtype phenotype: {params[0]}\")"
   ]
  },
  {
   "cell_type": "markdown",
   "metadata": {},
   "source": [
    "Now let's look at the effects of the mutations.\n",
    "Recall that after the first element of the fit, each element is the value of the mutation from `0` to `1` at each site.\n",
    "Here are the actual values:"
   ]
  },
  {
   "cell_type": "code",
   "execution_count": 13,
   "metadata": {},
   "outputs": [
    {
     "data": {
      "text/html": [
       "<div>\n",
       "<style scoped>\n",
       "    .dataframe tbody tr th:only-of-type {\n",
       "        vertical-align: middle;\n",
       "    }\n",
       "\n",
       "    .dataframe tbody tr th {\n",
       "        vertical-align: top;\n",
       "    }\n",
       "\n",
       "    .dataframe thead th {\n",
       "        text-align: right;\n",
       "    }\n",
       "</style>\n",
       "<table border=\"1\" class=\"dataframe\">\n",
       "  <thead>\n",
       "    <tr style=\"text-align: right;\">\n",
       "      <th></th>\n",
       "      <th>site</th>\n",
       "      <th>wildtype</th>\n",
       "      <th>mutation</th>\n",
       "      <th>muteffect</th>\n",
       "    </tr>\n",
       "  </thead>\n",
       "  <tbody>\n",
       "    <tr>\n",
       "      <th>0</th>\n",
       "      <td>0</td>\n",
       "      <td>0</td>\n",
       "      <td>1</td>\n",
       "      <td>-2.223513</td>\n",
       "    </tr>\n",
       "    <tr>\n",
       "      <th>1</th>\n",
       "      <td>1</td>\n",
       "      <td>0</td>\n",
       "      <td>1</td>\n",
       "      <td>-2.056344</td>\n",
       "    </tr>\n",
       "    <tr>\n",
       "      <th>2</th>\n",
       "      <td>2</td>\n",
       "      <td>0</td>\n",
       "      <td>1</td>\n",
       "      <td>-3.145937</td>\n",
       "    </tr>\n",
       "    <tr>\n",
       "      <th>3</th>\n",
       "      <td>3</td>\n",
       "      <td>0</td>\n",
       "      <td>1</td>\n",
       "      <td>0.730815</td>\n",
       "    </tr>\n",
       "  </tbody>\n",
       "</table>\n",
       "</div>"
      ],
      "text/plain": [
       "   site wildtype mutation  muteffect\n",
       "0     0        0        1  -2.223513\n",
       "1     1        0        1  -2.056344\n",
       "2     2        0        1  -3.145937\n",
       "3     3        0        1   0.730815"
      ]
     },
     "execution_count": 13,
     "metadata": {},
     "output_type": "execute_result"
    }
   ],
   "source": [
    "binary_additive_model.muteffects_table()"
   ]
  },
  {
   "cell_type": "markdown",
   "metadata": {},
   "source": [
    "Here are the fit values:"
   ]
  },
  {
   "cell_type": "code",
   "execution_count": 14,
   "metadata": {},
   "outputs": [
    {
     "data": {
      "text/plain": [
       "array([-2.22351283, -2.0563435 , -3.14593724,  0.73081526])"
      ]
     },
     "execution_count": 14,
     "metadata": {},
     "output_type": "execute_result"
    }
   ],
   "source": [
    "params[1 : ]"
   ]
  },
  {
   "cell_type": "markdown",
   "metadata": {},
   "source": [
    "Or more nicely formatted:"
   ]
  },
  {
   "cell_type": "code",
   "execution_count": 15,
   "metadata": {},
   "outputs": [
    {
     "data": {
      "text/html": [
       "<div>\n",
       "<style scoped>\n",
       "    .dataframe tbody tr th:only-of-type {\n",
       "        vertical-align: middle;\n",
       "    }\n",
       "\n",
       "    .dataframe tbody tr th {\n",
       "        vertical-align: top;\n",
       "    }\n",
       "\n",
       "    .dataframe thead th {\n",
       "        text-align: right;\n",
       "    }\n",
       "</style>\n",
       "<table border=\"1\" class=\"dataframe\">\n",
       "  <thead>\n",
       "    <tr style=\"text-align: right;\">\n",
       "      <th></th>\n",
       "      <th>site</th>\n",
       "      <th>wildtype</th>\n",
       "      <th>mutation</th>\n",
       "      <th>muteffect</th>\n",
       "      <th>fit_muteffect</th>\n",
       "    </tr>\n",
       "  </thead>\n",
       "  <tbody>\n",
       "    <tr>\n",
       "      <th>0</th>\n",
       "      <td>0</td>\n",
       "      <td>0</td>\n",
       "      <td>1</td>\n",
       "      <td>-2.223513</td>\n",
       "      <td>-2.223513</td>\n",
       "    </tr>\n",
       "    <tr>\n",
       "      <th>1</th>\n",
       "      <td>1</td>\n",
       "      <td>0</td>\n",
       "      <td>1</td>\n",
       "      <td>-2.056344</td>\n",
       "      <td>-2.056344</td>\n",
       "    </tr>\n",
       "    <tr>\n",
       "      <th>2</th>\n",
       "      <td>2</td>\n",
       "      <td>0</td>\n",
       "      <td>1</td>\n",
       "      <td>-3.145937</td>\n",
       "      <td>-3.145937</td>\n",
       "    </tr>\n",
       "    <tr>\n",
       "      <th>3</th>\n",
       "      <td>3</td>\n",
       "      <td>0</td>\n",
       "      <td>1</td>\n",
       "      <td>0.730815</td>\n",
       "      <td>0.730815</td>\n",
       "    </tr>\n",
       "  </tbody>\n",
       "</table>\n",
       "</div>"
      ],
      "text/plain": [
       "   site wildtype mutation  muteffect  fit_muteffect\n",
       "0     0        0        1  -2.223513      -2.223513\n",
       "1     1        0        1  -2.056344      -2.056344\n",
       "2     2        0        1  -3.145937      -3.145937\n",
       "3     3        0        1   0.730815       0.730815"
      ]
     },
     "execution_count": 15,
     "metadata": {},
     "output_type": "execute_result"
    }
   ],
   "source": [
    "binary_additive_muteffects_fit = (\n",
    "    binary_additive_model.muteffects_table()\n",
    "    .assign(fit_muteffect=params[1: ])\n",
    "    )\n",
    "binary_additive_muteffects_fit"
   ]
  },
  {
   "cell_type": "markdown",
   "metadata": {},
   "source": [
    "Plotting the correlation:"
   ]
  },
  {
   "cell_type": "code",
   "execution_count": 16,
   "metadata": {},
   "outputs": [
    {
     "data": {
      "text/plain": [
       "<matplotlib.axes._subplots.AxesSubplot at 0x7f564ac6d9b0>"
      ]
     },
     "execution_count": 16,
     "metadata": {},
     "output_type": "execute_result"
    },
    {
     "data": {
      "image/png": "[encoded data removed]",
      "text/plain": [
       "<Figure size 432x288 with 1 Axes>"
      ]
     },
     "metadata": {
      "needs_background": "light"
     },
     "output_type": "display_data"
    }
   ],
   "source": [
    "binary_additive_muteffects_fit.plot.scatter('muteffect', 'fit_muteffect')"
   ]
  },
  {
   "cell_type": "markdown",
   "metadata": {},
   "source": [
    "## Homework question 1\n",
    "Above we fit a binary map with a wildtype sequence of all `00.00`.\n",
    "But we could make a more general map, say with nucleotide characters and some other wildtype sequence:"
   ]
  },
  {
   "cell_type": "code",
   "execution_count": 17,
   "metadata": {},
   "outputs": [],
   "source": [
    "additive_model = AdditiveModel(['A', 'C', 'G', 'T'], 'ATGC')"
   ]
  },
  {
   "cell_type": "markdown",
   "metadata": {},
   "source": [
    "It would again have some mutational effects:"
   ]
  },
  {
   "cell_type": "code",
   "execution_count": 18,
   "metadata": {},
   "outputs": [
    {
     "data": {
      "text/html": [
       "<div>\n",
       "<style scoped>\n",
       "    .dataframe tbody tr th:only-of-type {\n",
       "        vertical-align: middle;\n",
       "    }\n",
       "\n",
       "    .dataframe tbody tr th {\n",
       "        vertical-align: top;\n",
       "    }\n",
       "\n",
       "    .dataframe thead th {\n",
       "        text-align: right;\n",
       "    }\n",
       "</style>\n",
       "<table border=\"1\" class=\"dataframe\">\n",
       "  <thead>\n",
       "    <tr style=\"text-align: right;\">\n",
       "      <th></th>\n",
       "      <th>site</th>\n",
       "      <th>wildtype</th>\n",
       "      <th>mutation</th>\n",
       "      <th>muteffect</th>\n",
       "    </tr>\n",
       "  </thead>\n",
       "  <tbody>\n",
       "    <tr>\n",
       "      <th>0</th>\n",
       "      <td>0</td>\n",
       "      <td>A</td>\n",
       "      <td>C</td>\n",
       "      <td>-2.223513</td>\n",
       "    </tr>\n",
       "    <tr>\n",
       "      <th>1</th>\n",
       "      <td>0</td>\n",
       "      <td>A</td>\n",
       "      <td>G</td>\n",
       "      <td>-2.056344</td>\n",
       "    </tr>\n",
       "    <tr>\n",
       "      <th>2</th>\n",
       "      <td>0</td>\n",
       "      <td>A</td>\n",
       "      <td>T</td>\n",
       "      <td>-3.145937</td>\n",
       "    </tr>\n",
       "    <tr>\n",
       "      <th>3</th>\n",
       "      <td>1</td>\n",
       "      <td>T</td>\n",
       "      <td>A</td>\n",
       "      <td>0.730815</td>\n",
       "    </tr>\n",
       "    <tr>\n",
       "      <th>4</th>\n",
       "      <td>1</td>\n",
       "      <td>T</td>\n",
       "      <td>C</td>\n",
       "      <td>-5.603077</td>\n",
       "    </tr>\n",
       "    <tr>\n",
       "      <th>5</th>\n",
       "      <td>1</td>\n",
       "      <td>T</td>\n",
       "      <td>G</td>\n",
       "      <td>2.489624</td>\n",
       "    </tr>\n",
       "    <tr>\n",
       "      <th>6</th>\n",
       "      <td>2</td>\n",
       "      <td>G</td>\n",
       "      <td>A</td>\n",
       "      <td>-2.522414</td>\n",
       "    </tr>\n",
       "    <tr>\n",
       "      <th>7</th>\n",
       "      <td>2</td>\n",
       "      <td>G</td>\n",
       "      <td>C</td>\n",
       "      <td>-0.361922</td>\n",
       "    </tr>\n",
       "    <tr>\n",
       "      <th>8</th>\n",
       "      <td>2</td>\n",
       "      <td>G</td>\n",
       "      <td>T</td>\n",
       "      <td>-1.498741</td>\n",
       "    </tr>\n",
       "    <tr>\n",
       "      <th>9</th>\n",
       "      <td>3</td>\n",
       "      <td>C</td>\n",
       "      <td>A</td>\n",
       "      <td>1.924216</td>\n",
       "    </tr>\n",
       "    <tr>\n",
       "      <th>10</th>\n",
       "      <td>3</td>\n",
       "      <td>C</td>\n",
       "      <td>G</td>\n",
       "      <td>-5.120281</td>\n",
       "    </tr>\n",
       "    <tr>\n",
       "      <th>11</th>\n",
       "      <td>3</td>\n",
       "      <td>C</td>\n",
       "      <td>T</td>\n",
       "      <td>-1.644834</td>\n",
       "    </tr>\n",
       "  </tbody>\n",
       "</table>\n",
       "</div>"
      ],
      "text/plain": [
       "    site wildtype mutation  muteffect\n",
       "0      0        A        C  -2.223513\n",
       "1      0        A        G  -2.056344\n",
       "2      0        A        T  -3.145937\n",
       "3      1        T        A   0.730815\n",
       "4      1        T        C  -5.603077\n",
       "5      1        T        G   2.489624\n",
       "6      2        G        A  -2.522414\n",
       "7      2        G        C  -0.361922\n",
       "8      2        G        T  -1.498741\n",
       "9      3        C        A   1.924216\n",
       "10     3        C        G  -5.120281\n",
       "11     3        C        T  -1.644834"
      ]
     },
     "execution_count": 18,
     "metadata": {},
     "output_type": "execute_result"
    }
   ],
   "source": [
    "additive_model.muteffects_table()"
   ]
  },
  {
   "cell_type": "markdown",
   "metadata": {},
   "source": [
    "And some wildtype phenotype:"
   ]
  },
  {
   "cell_type": "code",
   "execution_count": 19,
   "metadata": {},
   "outputs": [
    {
     "data": {
      "text/plain": [
       "3.6243453636632417"
      ]
     },
     "execution_count": 19,
     "metadata": {},
     "output_type": "execute_result"
    }
   ],
   "source": [
    "additive_model.wtpheno"
   ]
  },
  {
   "cell_type": "markdown",
   "metadata": {},
   "source": [
    "And phenotypes for each genotype:"
   ]
  },
  {
   "cell_type": "code",
   "execution_count": 20,
   "metadata": {},
   "outputs": [
    {
     "name": "stdout",
     "output_type": "stream",
     "text": [
      "Here are the first few genotypes and their phenotypes:\n"
     ]
    },
    {
     "data": {
      "text/html": [
       "<div>\n",
       "<style scoped>\n",
       "    .dataframe tbody tr th:only-of-type {\n",
       "        vertical-align: middle;\n",
       "    }\n",
       "\n",
       "    .dataframe tbody tr th {\n",
       "        vertical-align: top;\n",
       "    }\n",
       "\n",
       "    .dataframe thead th {\n",
       "        text-align: right;\n",
       "    }\n",
       "</style>\n",
       "<table border=\"1\" class=\"dataframe\">\n",
       "  <thead>\n",
       "    <tr style=\"text-align: right;\">\n",
       "      <th></th>\n",
       "      <th>genotype</th>\n",
       "      <th>phenotype</th>\n",
       "    </tr>\n",
       "  </thead>\n",
       "  <tbody>\n",
       "    <tr>\n",
       "      <th>0</th>\n",
       "      <td>AAAA</td>\n",
       "      <td>3.756963</td>\n",
       "    </tr>\n",
       "    <tr>\n",
       "      <th>1</th>\n",
       "      <td>AAAC</td>\n",
       "      <td>1.832747</td>\n",
       "    </tr>\n",
       "    <tr>\n",
       "      <th>2</th>\n",
       "      <td>AAAG</td>\n",
       "      <td>-3.287535</td>\n",
       "    </tr>\n",
       "    <tr>\n",
       "      <th>3</th>\n",
       "      <td>AAAT</td>\n",
       "      <td>0.187912</td>\n",
       "    </tr>\n",
       "    <tr>\n",
       "      <th>4</th>\n",
       "      <td>AACA</td>\n",
       "      <td>5.917455</td>\n",
       "    </tr>\n",
       "  </tbody>\n",
       "</table>\n",
       "</div>"
      ],
      "text/plain": [
       "  genotype  phenotype\n",
       "0     AAAA   3.756963\n",
       "1     AAAC   1.832747\n",
       "2     AAAG  -3.287535\n",
       "3     AAAT   0.187912\n",
       "4     AACA   5.917455"
      ]
     },
     "execution_count": 20,
     "metadata": {},
     "output_type": "execute_result"
    }
   ],
   "source": [
    "additive_gp_df = (\n",
    "    pd.Series(additive_model.all_seqs_phenos())\n",
    "    .rename_axis('genotype')\n",
    "    .reset_index(name='phenotype')\n",
    "    )\n",
    "print('Here are the first few genotypes and their phenotypes:')\n",
    "additive_gp_df.head()"
   ]
  },
  {
   "cell_type": "markdown",
   "metadata": {},
   "source": [
    "And if you generalize the fitting function above, you can determine the mutational effects in this additive model.\n",
    "\n",
    "But that is **not** the homework.\n",
    "Instead I have generated a genotype-phenotype map just like the one shown above (with the same wildtype sequence of `ATGC`), but **with a different random number seed.**\n",
    "This map is in [hw_gp_list.csv](hw_gp_list.csv), which we read in here:"
   ]
  },
  {
   "cell_type": "code",
   "execution_count": 21,
   "metadata": {},
   "outputs": [
    {
     "name": "stdout",
     "output_type": "stream",
     "text": [
      "Here are the first few genotypes and their phenotypes:\n"
     ]
    },
    {
     "data": {
      "text/html": [
       "<div>\n",
       "<style scoped>\n",
       "    .dataframe tbody tr th:only-of-type {\n",
       "        vertical-align: middle;\n",
       "    }\n",
       "\n",
       "    .dataframe tbody tr th {\n",
       "        vertical-align: top;\n",
       "    }\n",
       "\n",
       "    .dataframe thead th {\n",
       "        text-align: right;\n",
       "    }\n",
       "</style>\n",
       "<table border=\"1\" class=\"dataframe\">\n",
       "  <thead>\n",
       "    <tr style=\"text-align: right;\">\n",
       "      <th></th>\n",
       "      <th>genotype</th>\n",
       "      <th>phenotype</th>\n",
       "    </tr>\n",
       "  </thead>\n",
       "  <tbody>\n",
       "    <tr>\n",
       "      <th>0</th>\n",
       "      <td>AAAA</td>\n",
       "      <td>-5.160712</td>\n",
       "    </tr>\n",
       "    <tr>\n",
       "      <th>1</th>\n",
       "      <td>AAAC</td>\n",
       "      <td>0.172790</td>\n",
       "    </tr>\n",
       "    <tr>\n",
       "      <th>2</th>\n",
       "      <td>AAAG</td>\n",
       "      <td>-1.056697</td>\n",
       "    </tr>\n",
       "    <tr>\n",
       "      <th>3</th>\n",
       "      <td>AAAT</td>\n",
       "      <td>-0.308053</td>\n",
       "    </tr>\n",
       "    <tr>\n",
       "      <th>4</th>\n",
       "      <td>AACA</td>\n",
       "      <td>-3.280548</td>\n",
       "    </tr>\n",
       "  </tbody>\n",
       "</table>\n",
       "</div>"
      ],
      "text/plain": [
       "  genotype  phenotype\n",
       "0     AAAA  -5.160712\n",
       "1     AAAC   0.172790\n",
       "2     AAAG  -1.056697\n",
       "3     AAAT  -0.308053\n",
       "4     AACA  -3.280548"
      ]
     },
     "execution_count": 21,
     "metadata": {},
     "output_type": "execute_result"
    }
   ],
   "source": [
    "hw_additive_gp_df = pd.read_csv('hw_gp_list.csv')\n",
    "print('Here are the first few genotypes and their phenotypes:')\n",
    "hw_additive_gp_df.head()"
   ]
  },
  {
   "cell_type": "markdown",
   "metadata": {},
   "source": [
    "Your homework question is to generalize the fitting function above to determine the mutational effects for this genotype-phenotype map.\n",
    "Turn them in as a dataframe giving the effect of each mutation at each site in the format of the similar data frames above.\n",
    "Also turn in the code you use to do this."
   ]
  },
  {
   "cell_type": "code",
   "execution_count": null,
   "metadata": {},
   "outputs": [],
   "source": []
  }
 ],
 "metadata": {
  "kernelspec": {
   "display_name": "Python 3",
   "language": "python",
   "name": "python3"
  },
  "language_info": {
   "codemirror_mode": {
    "name": "ipython",
    "version": 3
   },
   "file_extension": ".py",
   "mimetype": "text/x-python",
   "name": "python",
   "nbconvert_exporter": "python",
   "pygments_lexer": "ipython3",
   "version": "3.7.3"
  }
 },
 "nbformat": 4,
 "nbformat_minor": 2
}
