{
 "cells": [
  {
   "cell_type": "markdown",
   "metadata": {},
   "source": [
    "# Analyzing genotype-phenotype maps\n",
    "Example and homework for Genome Sciences 541, by Jesse Bloom, June-2019.\n",
    "\n",
    "The questions in this notebook are due by **5 PM on Thursday June 13**."
   ]
  },
  {
   "cell_type": "markdown",
   "metadata": {},
   "source": [
    "## Import Python modules"
   ]
  },
  {
   "cell_type": "code",
   "execution_count": 1,
   "metadata": {},
   "outputs": [],
   "source": [
    "import matplotlib.pyplot as plt\n",
    "plt.ion()\n",
    "\n",
    "import pandas as pd\n",
    "\n",
    "import scipy"
   ]
  },
  {
   "cell_type": "markdown",
   "metadata": {},
   "source": [
    "## Create an additive genotype-phenotype map\n",
    "Define a class that sets up an additive model for phenotypes and randomly assigns effects to each mutation at each site:"
   ]
  },
  {
   "cell_type": "code",
   "execution_count": 2,
   "metadata": {},
   "outputs": [],
   "source": [
    "class AdditiveModel:\n",
    "    \"\"\"Additive genotype-phenotype model.\n",
    "    \n",
    "    Parameters\n",
    "    ----------\n",
    "    alphabet : list\n",
    "        List of characters in the alphabet for the sequences.\n",
    "    wtseq : str\n",
    "        The wildtype sequence.\n",
    "    seed : int\n",
    "        The random number seed for initializing model parameters\n",
    "    \n",
    "    Attributes\n",
    "    ----------\n",
    "    alphabet : list\n",
    "        List of characters in the alphabet for the sequences.\n",
    "    wtseq : str\n",
    "        The wildtype sequence.\n",
    "    seqlength : int\n",
    "        Length of sequences.\n",
    "    wtpheno : float\n",
    "        Phenotype of wildtype sequence.\n",
    "    site_effects : dict\n",
    "        Keyed by `(site, a)` where `site` is site in 0, 1, ... numbering and\n",
    "        `s` is each possible letter in alphabet; values are effects of mutations.\n",
    "    \"\"\"\n",
    "    \n",
    "    def __init__(self,\n",
    "                 alphabet,\n",
    "                 wtseq,\n",
    "                 seed=1):\n",
    "        \"\"\"See main class docstring for how to initialize.\"\"\"\n",
    "        self.alphabet = alphabet\n",
    "        self.wtseq = wtseq\n",
    "        for a in wtseq:\n",
    "            if a not in alphabet:\n",
    "                raise ValueError(f\"wtseq contains character not in alphabet: {a}\")\n",
    "        self.seqlength = len(wtseq)\n",
    "        \n",
    "        scipy.random.seed(seed)\n",
    "        self.wtpheno = scipy.random.normal(2)\n",
    "        self.site_effects = {}\n",
    "        for r, a_wt in enumerate(self.wtseq):\n",
    "            for a in self.alphabet:\n",
    "                if a == a_wt:\n",
    "                    self.site_effects[(r, a)] = 0\n",
    "                else:\n",
    "                    self.site_effects[(r, a)] = scipy.random.normal(-1, 2)\n",
    "                    \n",
    "    def muteffects_table(self):\n",
    "        \"\"\"Table of effects of all mutations\n",
    "        \n",
    "        Returns\n",
    "        -------\n",
    "        pandas DataFrame\n",
    "            Columns give site, wildtype identity, mutation, and its effect.\n",
    "        \"\"\"\n",
    "        return (pd.Series(self.site_effects)\n",
    "                .rename_axis(['site', 'mutation'])\n",
    "                .reset_index(name='muteffect')\n",
    "                .assign(wildtype=lambda x: x['site'].apply(lambda r: self.wtseq[r]))\n",
    "                [['site', 'wildtype', 'mutation', 'muteffect']]\n",
    "                .query('wildtype != mutation')\n",
    "                .reset_index(drop=True)\n",
    "                )\n",
    "    \n",
    "    def all_seqs_phenos(self):\n",
    "        \"\"\"Get all possible sequences and their phenotypes.\n",
    "        \n",
    "        Returns\n",
    "        ---------\n",
    "        dict\n",
    "            Keyed by all possible sequences, values are their phenotypes.\n",
    "        \"\"\"\n",
    "        # recursive function to build all sequences\n",
    "        def _add_letter(seqlist):\n",
    "            if len(seqlist[0]) == self.seqlength:\n",
    "                return seqlist\n",
    "            newseqlist = []\n",
    "            for seq in seqlist:\n",
    "                for a in self.alphabet:\n",
    "                    newseqlist.append(seq + a)\n",
    "            return _add_letter(newseqlist)\n",
    "            \n",
    "        allseqs = _add_letter(self.alphabet)\n",
    "        return {seq: sum(self.site_effects[(r, a)] for r, a in enumerate(seq)) + self.wtpheno\n",
    "                for seq in allseqs}"
   ]
  },
  {
   "cell_type": "markdown",
   "metadata": {},
   "source": [
    "Now create an additive model:"
   ]
  },
  {
   "cell_type": "code",
   "execution_count": 3,
   "metadata": {},
   "outputs": [],
   "source": [
    "add_model = AdditiveModel(['0', '1'], '0000')"
   ]
  },
  {
   "cell_type": "markdown",
   "metadata": {},
   "source": [
    "Here are the effects of mutations:"
   ]
  },
  {
   "cell_type": "code",
   "execution_count": 4,
   "metadata": {},
   "outputs": [
    {
     "data": {
      "text/html": [
       "<div>\n",
       "<style scoped>\n",
       "    .dataframe tbody tr th:only-of-type {\n",
       "        vertical-align: middle;\n",
       "    }\n",
       "\n",
       "    .dataframe tbody tr th {\n",
       "        vertical-align: top;\n",
       "    }\n",
       "\n",
       "    .dataframe thead th {\n",
       "        text-align: right;\n",
       "    }\n",
       "</style>\n",
       "<table border=\"1\" class=\"dataframe\">\n",
       "  <thead>\n",
       "    <tr style=\"text-align: right;\">\n",
       "      <th></th>\n",
       "      <th>site</th>\n",
       "      <th>wildtype</th>\n",
       "      <th>mutation</th>\n",
       "      <th>muteffect</th>\n",
       "    </tr>\n",
       "  </thead>\n",
       "  <tbody>\n",
       "    <tr>\n",
       "      <th>0</th>\n",
       "      <td>0</td>\n",
       "      <td>0</td>\n",
       "      <td>1</td>\n",
       "      <td>-2.223513</td>\n",
       "    </tr>\n",
       "    <tr>\n",
       "      <th>1</th>\n",
       "      <td>1</td>\n",
       "      <td>0</td>\n",
       "      <td>1</td>\n",
       "      <td>-2.056344</td>\n",
       "    </tr>\n",
       "    <tr>\n",
       "      <th>2</th>\n",
       "      <td>2</td>\n",
       "      <td>0</td>\n",
       "      <td>1</td>\n",
       "      <td>-3.145937</td>\n",
       "    </tr>\n",
       "    <tr>\n",
       "      <th>3</th>\n",
       "      <td>3</td>\n",
       "      <td>0</td>\n",
       "      <td>1</td>\n",
       "      <td>0.730815</td>\n",
       "    </tr>\n",
       "  </tbody>\n",
       "</table>\n",
       "</div>"
      ],
      "text/plain": [
       "   site wildtype mutation  muteffect\n",
       "0     0        0        1  -2.223513\n",
       "1     1        0        1  -2.056344\n",
       "2     2        0        1  -3.145937\n",
       "3     3        0        1   0.730815"
      ]
     },
     "execution_count": 4,
     "metadata": {},
     "output_type": "execute_result"
    }
   ],
   "source": [
    "add_model.muteffects_table()"
   ]
  },
  {
   "cell_type": "markdown",
   "metadata": {},
   "source": [
    "Here are all the genotypes and their phenotypes in a nice data frame:"
   ]
  },
  {
   "cell_type": "code",
   "execution_count": 5,
   "metadata": {},
   "outputs": [
    {
     "data": {
      "text/html": [
       "<div>\n",
       "<style scoped>\n",
       "    .dataframe tbody tr th:only-of-type {\n",
       "        vertical-align: middle;\n",
       "    }\n",
       "\n",
       "    .dataframe tbody tr th {\n",
       "        vertical-align: top;\n",
       "    }\n",
       "\n",
       "    .dataframe thead th {\n",
       "        text-align: right;\n",
       "    }\n",
       "</style>\n",
       "<table border=\"1\" class=\"dataframe\">\n",
       "  <thead>\n",
       "    <tr style=\"text-align: right;\">\n",
       "      <th></th>\n",
       "      <th>genotype</th>\n",
       "      <th>phenotype</th>\n",
       "    </tr>\n",
       "  </thead>\n",
       "  <tbody>\n",
       "    <tr>\n",
       "      <th>0</th>\n",
       "      <td>0000</td>\n",
       "      <td>3.624345</td>\n",
       "    </tr>\n",
       "    <tr>\n",
       "      <th>1</th>\n",
       "      <td>0001</td>\n",
       "      <td>4.355161</td>\n",
       "    </tr>\n",
       "    <tr>\n",
       "      <th>2</th>\n",
       "      <td>0010</td>\n",
       "      <td>0.478408</td>\n",
       "    </tr>\n",
       "    <tr>\n",
       "      <th>3</th>\n",
       "      <td>0011</td>\n",
       "      <td>1.209223</td>\n",
       "    </tr>\n",
       "    <tr>\n",
       "      <th>4</th>\n",
       "      <td>0100</td>\n",
       "      <td>1.568002</td>\n",
       "    </tr>\n",
       "    <tr>\n",
       "      <th>5</th>\n",
       "      <td>0101</td>\n",
       "      <td>2.298817</td>\n",
       "    </tr>\n",
       "    <tr>\n",
       "      <th>6</th>\n",
       "      <td>0110</td>\n",
       "      <td>-1.577935</td>\n",
       "    </tr>\n",
       "    <tr>\n",
       "      <th>7</th>\n",
       "      <td>0111</td>\n",
       "      <td>-0.847120</td>\n",
       "    </tr>\n",
       "    <tr>\n",
       "      <th>8</th>\n",
       "      <td>1000</td>\n",
       "      <td>1.400833</td>\n",
       "    </tr>\n",
       "    <tr>\n",
       "      <th>9</th>\n",
       "      <td>1001</td>\n",
       "      <td>2.131648</td>\n",
       "    </tr>\n",
       "    <tr>\n",
       "      <th>10</th>\n",
       "      <td>1010</td>\n",
       "      <td>-1.745105</td>\n",
       "    </tr>\n",
       "    <tr>\n",
       "      <th>11</th>\n",
       "      <td>1011</td>\n",
       "      <td>-1.014289</td>\n",
       "    </tr>\n",
       "    <tr>\n",
       "      <th>12</th>\n",
       "      <td>1100</td>\n",
       "      <td>-0.655511</td>\n",
       "    </tr>\n",
       "    <tr>\n",
       "      <th>13</th>\n",
       "      <td>1101</td>\n",
       "      <td>0.075304</td>\n",
       "    </tr>\n",
       "    <tr>\n",
       "      <th>14</th>\n",
       "      <td>1110</td>\n",
       "      <td>-3.801448</td>\n",
       "    </tr>\n",
       "    <tr>\n",
       "      <th>15</th>\n",
       "      <td>1111</td>\n",
       "      <td>-3.070633</td>\n",
       "    </tr>\n",
       "  </tbody>\n",
       "</table>\n",
       "</div>"
      ],
      "text/plain": [
       "   genotype  phenotype\n",
       "0      0000   3.624345\n",
       "1      0001   4.355161\n",
       "2      0010   0.478408\n",
       "3      0011   1.209223\n",
       "4      0100   1.568002\n",
       "5      0101   2.298817\n",
       "6      0110  -1.577935\n",
       "7      0111  -0.847120\n",
       "8      1000   1.400833\n",
       "9      1001   2.131648\n",
       "10     1010  -1.745105\n",
       "11     1011  -1.014289\n",
       "12     1100  -0.655511\n",
       "13     1101   0.075304\n",
       "14     1110  -3.801448\n",
       "15     1111  -3.070633"
      ]
     },
     "execution_count": 5,
     "metadata": {},
     "output_type": "execute_result"
    }
   ],
   "source": [
    "gp_df = (pd.Series(add_model.all_seqs_phenos())\n",
    "         .rename_axis('genotype')\n",
    "         .reset_index(name='phenotype')\n",
    "         )\n",
    "gp_df"
   ]
  },
  {
   "cell_type": "markdown",
   "metadata": {},
   "source": [
    "Here is the distribution of phenotypes:"
   ]
  },
  {
   "cell_type": "code",
   "execution_count": 6,
   "metadata": {},
   "outputs": [
    {
     "data": {
      "text/plain": [
       "<matplotlib.axes._subplots.AxesSubplot at 0x7f511f0f65c0>"
      ]
     },
     "execution_count": 6,
     "metadata": {},
     "output_type": "execute_result"
    },
    {
     "data": {
      "image/png": "[encoded data removed]",
      "text/plain": [
       "<Figure size 432x288 with 1 Axes>"
      ]
     },
     "metadata": {
      "needs_background": "light"
     },
     "output_type": "display_data"
    }
   ],
   "source": [
    "gp_df['phenotype'].plot.hist()"
   ]
  },
  {
   "cell_type": "code",
   "execution_count": null,
   "metadata": {},
   "outputs": [],
   "source": []
  }
 ],
 "metadata": {
  "kernelspec": {
   "display_name": "Python 3",
   "language": "python",
   "name": "python3"
  },
  "language_info": {
   "codemirror_mode": {
    "name": "ipython",
    "version": 3
   },
   "file_extension": ".py",
   "mimetype": "text/x-python",
   "name": "python",
   "nbconvert_exporter": "python",
   "pygments_lexer": "ipython3",
   "version": "3.7.3"
  }
 },
 "nbformat": 4,
 "nbformat_minor": 2
}
